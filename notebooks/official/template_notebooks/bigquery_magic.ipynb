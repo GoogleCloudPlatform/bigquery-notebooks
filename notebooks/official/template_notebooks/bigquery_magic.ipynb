{
  "cells": [
    {
      "cell_type": "code",
      "execution_count": null,
      "source": [
        "# Copyright 2021 Google LLC\n",
        "#\n",
        "# Licensed under the Apache License, Version 2.0 (the \"License\");\n",
        "# you may not use this file except in compliance with the License.\n",
        "# You may obtain a copy of the License at\n",
        "#\n",
        "#     https://www.apache.org/licenses/LICENSE-2.0\n",
        "#\n",
        "# Unless required by applicable law or agreed to in writing, software\n",
        "# distributed under the License is distributed on an \"AS IS\" BASIS,\n",
        "# WITHOUT WARRANTIES OR CONDITIONS OF ANY KIND, either express or implied.\n",
        "# See the License for the specific language governing permissions and\n",
        "# limitations under the License.\n",
        "#test"
      ],
      "outputs": [],
      "metadata": {
        "id": "a6b56b1c7b76"
      }
    },
    {
      "cell_type": "markdown",
      "source": [
        "# BigQuery query magic\n",
        "\n",
        "Jupyter magics are notebook-specific shortcuts that allow you to run commands with minimal syntax. Jupyter notebooks come with many [built-in commands](https://ipython.readthedocs.io/en/stable/interactive/magics.html). The BigQuery client library, `google-cloud-bigquery`, provides a cell magic, `%%bigquery`. The `%%bigquery` magic runs a SQL query and returns the results as a pandas `DataFrame`."
      ],
      "metadata": {
        "id": "7b5217801c08"
      }
    },
    {
      "cell_type": "markdown",
      "source": [
        "## Run a query on a public dataset\n",
        "\n",
        "The following example queries the BigQuery `usa_names` public dataset. `usa_names` is a Social Security Administration dataset that contains all names from Social Security card applications for births that occurred in the United States after 1879.\n",
        "\n",
        "The following example shows how to invoke the magic (`%%bigquery`), and how to pass in a standard SQL query in the body of the code cell. The results are displayed below the input cell as a pandas [`DataFrame`](http://pandas.pydata.org/pandas-docs/stable/generated/pandas.DataFrame.html)."
      ],
      "metadata": {
        "id": "0f347ed53f25"
      }
    },
    {
      "cell_type": "code",
      "execution_count": null,
      "source": [
        "%%bigquery\n",
        "SELECT name, SUM(number) as count\n",
        "FROM `bigquery-public-data.usa_names.usa_1910_current`\n",
        "GROUP BY name\n",
        "ORDER BY count DESC\n",
        "LIMIT 10"
      ],
      "outputs": [],
      "metadata": {
        "id": "355dc0b480c4"
      }
    },
    {
      "cell_type": "markdown",
      "source": [
        "## Display verbose output\n",
        "\n",
        "As the query job is running, status messages below the cell update with the query job ID and the amount of time the query has been running. By default, this output is erased and replaced with the results of the query. If you pass the `--verbose` flag, the output will remain below the cell after query completion."
      ],
      "metadata": {
        "id": "2f73f2520a66"
      }
    },
    {
      "cell_type": "code",
      "execution_count": null,
      "source": [
        "%%bigquery --verbose\n",
        "SELECT name, SUM(number) as count\n",
        "FROM `bigquery-public-data.usa_names.usa_1910_current`\n",
        "GROUP BY name\n",
        "ORDER BY count DESC\n",
        "LIMIT 10"
      ],
      "outputs": [],
      "metadata": {
        "id": "2f4d1d1258ab"
      }
    },
    {
      "cell_type": "markdown",
      "source": [
        "## Explicitly specify a project\n",
        "\n",
        "By default, the `%%bigquery` magic command uses your default project to run the query. You may also explicitly provide a project ID using the `--project` flag. Note that your credentials must have permissions to create query jobs in the project you specify."
      ],
      "metadata": {
        "id": "4e68a66f7274"
      }
    },
    {
      "cell_type": "code",
      "execution_count": null,
      "source": [
        "project_id = \"your-project-id\""
      ],
      "outputs": [],
      "metadata": {
        "id": "7bab6b282f49"
      }
    },
    {
      "cell_type": "code",
      "execution_count": null,
      "source": [
        "%%bigquery --project $project_id\n",
        "SELECT name, SUM(number) as count\n",
        "FROM `bigquery-public-data.usa_names.usa_1910_current`\n",
        "GROUP BY name\n",
        "ORDER BY count DESC\n",
        "LIMIT 10"
      ],
      "outputs": [],
      "metadata": {
        "id": "8bee6a8c357d"
      }
    },
    {
      "cell_type": "markdown",
      "source": [
        "## Assign the query results to a variable\n",
        "\n",
        "To save the results of your query to a variable, provide a variable name as a parameter to `%%bigquery`. The following example saves the results of the query to a variable named `df`. Note that when a variable is provided, the results are not displayed below the cell that invokes the magic command."
      ],
      "metadata": {
        "id": "370dcec14c45"
      }
    },
    {
      "cell_type": "code",
      "execution_count": null,
      "source": [
        "%%bigquery df\n",
        "SELECT name, SUM(number) as count\n",
        "FROM `bigquery-public-data.usa_names.usa_1910_current`\n",
        "GROUP BY name\n",
        "ORDER BY count DESC\n",
        "LIMIT 10"
      ],
      "outputs": [],
      "metadata": {
        "id": "5202caf63d17"
      }
    },
    {
      "cell_type": "code",
      "execution_count": null,
      "source": [
        "df"
      ],
      "outputs": [],
      "metadata": {
        "id": "cd3f7e739121"
      }
    },
    {
      "cell_type": "markdown",
      "source": [
        "## Run a parameterized query\n",
        "\n",
        "Parameterized queries are useful if you need to run a query with certain parameters that are calculated at run time. Note that the value types must be JSON serializable. The following example defines a parameters dictionary and passes it to the `--params` flag. The key of the dictionary is the name of the parameter, and the value of the dictionary is the value of the parameter."
      ],
      "metadata": {
        "id": "418f70a4f1db"
      }
    },
    {
      "cell_type": "code",
      "execution_count": null,
      "source": [
        "params = {\"limit\": 10}"
      ],
      "outputs": [],
      "metadata": {
        "id": "2eb0942838ad"
      }
    },
    {
      "cell_type": "code",
      "execution_count": null,
      "source": [
        "%%bigquery --params $params\n",
        "SELECT name, SUM(number) as count\n",
        "FROM `bigquery-public-data.usa_names.usa_1910_current`\n",
        "GROUP BY name\n",
        "ORDER BY count DESC\n",
        "LIMIT @limit"
      ],
      "outputs": [],
      "metadata": {
        "id": "1ff301a912e3"
      }
    }
  ],
  "metadata": {
    "colab": {
      "name": "bigquery_magic.ipynb",
      "toc_visible": true
    },
    "kernelspec": {
      "display_name": "Python 3",
      "name": "python3"
    }
  },
  "nbformat": 4,
  "nbformat_minor": 2
}