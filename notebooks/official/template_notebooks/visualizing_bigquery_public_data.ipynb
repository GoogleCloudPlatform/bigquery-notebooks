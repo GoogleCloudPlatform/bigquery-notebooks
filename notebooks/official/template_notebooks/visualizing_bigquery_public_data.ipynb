{
  "cells": [
    {
      "cell_type": "code",
      "execution_count": null,
      "source": [
        "# Copyright 2021 Google LLC\n",
        "#\n",
        "# Licensed under the Apache License, Version 2.0 (the \"License\");\n",
        "# you may not use this file except in compliance with the License.\n",
        "# You may obtain a copy of the License at\n",
        "#\n",
        "#     https://www.apache.org/licenses/LICENSE-2.0\n",
        "#\n",
        "# Unless required by applicable law or agreed to in writing, software\n",
        "# distributed under the License is distributed on an \"AS IS\" BASIS,\n",
        "# WITHOUT WARRANTIES OR CONDITIONS OF ANY KIND, either express or implied.\n",
        "# See the License for the specific language governing permissions and\n",
        "# limitations under the License.\n",
        "#test"
      ],
      "outputs": [],
      "metadata": {
        "id": "a6b56b1c7b76"
      }
    },
    {
      "cell_type": "markdown",
      "source": [
        "# Vizualizing BigQuery data in a Jupyter notebook\n",
        "\n",
        "[BigQuery](https://cloud.google.com/bigquery/docs/) is a petabyte-scale analytics data warehouse that you can use to run SQL queries over vast amounts of data in near realtime.\n",
        "\n",
        "Data visualization tools can help you make sense of your BigQuery data and help you analyze the data interactively. You can use visualization tools to help you identify trends, respond to them, and make predictions using your data. In this tutorial, you use the BigQuery Python client library and pandas in a Jupyter notebook to visualize data in the BigQuery natality sample table."
      ],
      "metadata": {
        "id": "4db9a183b787"
      }
    },
    {
      "cell_type": "markdown",
      "source": [
        "## Using Jupyter magics to query BigQuery data\n",
        "\n",
        "The BigQuery Python client library provides a magic command that allows you to run queries with minimal code.\n",
        "\n",
        "The BigQuery client library provides a cell magic, `%%bigquery`. The `%%bigquery` magic runs a SQL query and returns the results as a pandas `DataFrame`. The following cell executes a query of the BigQuery natality public dataset and returns the total births by year."
      ],
      "metadata": {
        "id": "f9523ded70f8"
      }
    },
    {
      "cell_type": "code",
      "execution_count": null,
      "source": [
        "%%bigquery\n",
        "SELECT\n",
        "    source_year AS year,\n",
        "    COUNT(is_male) AS birth_count\n",
        "FROM `bigquery-public-data.samples.natality`\n",
        "GROUP BY year\n",
        "ORDER BY year DESC\n",
        "LIMIT 15"
      ],
      "outputs": [],
      "metadata": {
        "id": "c1cc81b67691"
      }
    },
    {
      "cell_type": "markdown",
      "source": [
        "The following command to runs the same query, but this time the results are saved to a variable. The variable name, `total_births`, is given as an argument to the `%%bigquery`. The results can then be used for further analysis and visualization."
      ],
      "metadata": {
        "id": "59a1fbc497dd"
      }
    },
    {
      "cell_type": "code",
      "execution_count": null,
      "source": [
        "%%bigquery total_births\n",
        "SELECT\n",
        "    source_year AS year,\n",
        "    COUNT(is_male) AS birth_count\n",
        "FROM `bigquery-public-data.samples.natality`\n",
        "GROUP BY year\n",
        "ORDER BY year DESC\n",
        "LIMIT 15"
      ],
      "outputs": [],
      "metadata": {
        "id": "698a581925ba"
      }
    },
    {
      "cell_type": "markdown",
      "source": [
        "The next cell uses the pandas `DataFrame.plot` method to visualize the query results as a bar chart. See the [pandas documentation](https://pandas.pydata.org/pandas-docs/stable/visualization.html) to learn more about data visualization with pandas."
      ],
      "metadata": {
        "id": "28c96c225973"
      }
    },
    {
      "cell_type": "code",
      "execution_count": null,
      "source": [
        "total_births.plot(kind=\"bar\", x=\"year\", y=\"birth_count\");"
      ],
      "outputs": [],
      "metadata": {
        "id": "700eca672f2b"
      }
    },
    {
      "cell_type": "markdown",
      "source": [
        "Run the following query to retrieve the number of births by weekday. Because the `wday` (weekday) field allows null values, the query excludes records where wday is null."
      ],
      "metadata": {
        "id": "cecc85516f9c"
      }
    },
    {
      "cell_type": "code",
      "execution_count": null,
      "source": [
        "%%bigquery births_by_weekday\n",
        "SELECT\n",
        "    wday,\n",
        "    SUM(CASE WHEN is_male THEN 1 ELSE 0 END) AS male_births,\n",
        "    SUM(CASE WHEN is_male THEN 0 ELSE 1 END) AS female_births\n",
        "FROM `bigquery-public-data.samples.natality`\n",
        "WHERE wday IS NOT NULL\n",
        "GROUP BY wday\n",
        "ORDER BY wday ASC"
      ],
      "outputs": [],
      "metadata": {
        "id": "f8efe8379e3c"
      }
    },
    {
      "cell_type": "markdown",
      "source": [
        "Visualize the query results using a line chart."
      ],
      "metadata": {
        "id": "3cf908349424"
      }
    },
    {
      "cell_type": "code",
      "execution_count": null,
      "source": [
        "births_by_weekday.plot(x=\"wday\");"
      ],
      "outputs": [],
      "metadata": {
        "id": "d1c4c6f659be"
      }
    },
    {
      "cell_type": "markdown",
      "source": [
        "## Using Python to query BigQuery data\n",
        "\n",
        "Magic commands allow you to use minimal syntax to interact with BigQuery. Behind the scenes, `%%bigquery` uses the BigQuery Python client library to run the given query, convert the results to a pandas `Dataframe`, optionally save the results to a variable, and finally display the results. Using the BigQuery Python client library directly instead of through magic commands gives you more control over your queries and allows for more complex configurations. The library's integrations with pandas enable you to combine the power of declarative SQL with imperative code (Python) to perform interesting data analysis, visualization, and transformation tasks.\n",
        "\n",
        "To use the BigQuery Python client library, start by importing the library and initializing a client. The BigQuery client is used to send and receive messages from the BigQuery API."
      ],
      "metadata": {
        "id": "2860eb4f4b0f"
      }
    },
    {
      "cell_type": "code",
      "execution_count": null,
      "source": [
        "from google.cloud import bigquery\n",
        "\n",
        "client = bigquery.Client()"
      ],
      "outputs": [],
      "metadata": {
        "id": "e1395efc7af5"
      }
    },
    {
      "cell_type": "markdown",
      "source": [
        "Use the [`Client.query`](https://googleapis.github.io/google-cloud-python/latest/bigquery/generated/google.cloud.bigquery.client.Client.html#google.cloud.bigquery.client.Client.query) method to run a query. Execute the following cell to run a query to retrieve the annual count of plural births by plurality (2 for twins, 3 for triplets, etc.)."
      ],
      "metadata": {
        "id": "0c665d568825"
      }
    },
    {
      "cell_type": "code",
      "execution_count": null,
      "source": [
        "sql = \"\"\"\n",
        "SELECT\n",
        "    plurality,\n",
        "    COUNT(1) AS count,\n",
        "    year\n",
        "FROM\n",
        "    `bigquery-public-data.samples.natality`\n",
        "WHERE\n",
        "    NOT IS_NAN(plurality) AND plurality > 1\n",
        "GROUP BY\n",
        "    plurality, year\n",
        "ORDER BY\n",
        "    count DESC\n",
        "\"\"\"\n",
        "df = client.query(sql).to_dataframe()\n",
        "df.head()"
      ],
      "outputs": [],
      "metadata": {
        "id": "c9bc0d67af9d"
      }
    },
    {
      "cell_type": "markdown",
      "source": [
        "To chart the query results in your `DataFrame`, run the following cell to pivot the data and create a stacked bar chart of the count of plural births over time."
      ],
      "metadata": {
        "id": "9e5480dc6910"
      }
    },
    {
      "cell_type": "code",
      "execution_count": null,
      "source": [
        "pivot_table = df.pivot(index=\"year\", columns=\"plurality\", values=\"count\")\n",
        "pivot_table.plot(kind=\"bar\", stacked=True, figsize=(15, 7));"
      ],
      "outputs": [],
      "metadata": {
        "id": "31b68a7335ba"
      }
    },
    {
      "cell_type": "markdown",
      "source": [
        "Run the following query to retrieve the count of births by the number of gestation weeks."
      ],
      "metadata": {
        "id": "db732903f46d"
      }
    },
    {
      "cell_type": "code",
      "execution_count": null,
      "source": [
        "sql = \"\"\"\n",
        "SELECT\n",
        "    gestation_weeks,\n",
        "    COUNT(1) AS count\n",
        "FROM\n",
        "    `bigquery-public-data.samples.natality`\n",
        "WHERE\n",
        "    NOT IS_NAN(gestation_weeks) AND gestation_weeks <> 99\n",
        "GROUP BY\n",
        "    gestation_weeks\n",
        "ORDER BY\n",
        "    gestation_weeks\n",
        "\"\"\"\n",
        "df = client.query(sql).to_dataframe()"
      ],
      "outputs": [],
      "metadata": {
        "id": "ab224e435d3f"
      }
    },
    {
      "cell_type": "markdown",
      "source": [
        "Finally, chart the query results in your `DataFrame`."
      ],
      "metadata": {
        "id": "9a2c239d195c"
      }
    },
    {
      "cell_type": "code",
      "execution_count": null,
      "source": [
        "ax = df.plot(kind=\"bar\", x=\"gestation_weeks\", y=\"count\", figsize=(15, 7))\n",
        "ax.set_title(\"Count of Births by Gestation Weeks\")\n",
        "ax.set_xlabel(\"Gestation Weeks\")\n",
        "ax.set_ylabel(\"Count\");"
      ],
      "outputs": [],
      "metadata": {
        "id": "b6d0f0ae53c0"
      }
    },
    {
      "cell_type": "markdown",
      "source": [
        "## What's Next\n",
        "\n",
        "+ __Learn more about writing queries for BigQuery__ — [Querying Data](https://cloud.google.com/bigquery/querying-data) in the BigQuery documentation explains how to run queries, create user-defined functions (UDFs), and more.\n",
        "\n",
        "+ __Explore BigQuery syntax__ — The preferred dialect for SQL queries in BigQuery is standard SQL. Standard SQL syntax is described in the [SQL Reference](https://cloud.google.com/bigquery/docs/reference/standard-sql/). BigQuery's legacy SQL-like syntax is described in the [Query Reference (legacy SQL)](https://cloud.google.com/bigquery/query-reference)."
      ],
      "metadata": {
        "id": "7768b8c730a4"
      }
    }
  ],
  "metadata": {
    "colab": {
      "name": "visualizing_bigquery_public_data.ipynb",
      "toc_visible": true
    },
    "kernelspec": {
      "display_name": "Python 3",
      "name": "python3"
    }
  },
  "nbformat": 4,
  "nbformat_minor": 2
}