{
  "cells": [
    {
      "cell_type": "code",
      "execution_count": null,
      "metadata": {
        "id": "a6b56b1c7b76"
      },
      "outputs": [],
      "source": [
        "# Copyright 2021 Google LLC\n",
        "#\n",
        "# Licensed under the Apache License, Version 2.0 (the \"License\");\n",
        "# you may not use this file except in compliance with the License.\n",
        "# You may obtain a copy of the License at\n",
        "#\n",
        "#     https://www.apache.org/licenses/LICENSE-2.0\n",
        "#\n",
        "# Unless required by applicable law or agreed to in writing, software\n",
        "# distributed under the License is distributed on an \"AS IS\" BASIS,\n",
        "# WITHOUT WARRANTIES OR CONDITIONS OF ANY KIND, either express or implied.\n",
        "# See the License for the specific language governing permissions and\n",
        "# limitations under the License.\n",
        "# test"
      ]
    },
    {
      "cell_type": "markdown",
      "metadata": {
        "id": "003dd00ab63b"
      },
      "source": [
        "# BigQuery command-line tool\n",
        "\n",
        "The BigQuery command-line tool is installed as part of the [Cloud SDK](https://cloud-dot-devsite.googleplex.com/sdk/docs/) and can be used to interact with BigQuery. When you use CLI commands in a notebook, the command must be prepended with a `!`."
      ]
    },
    {
      "cell_type": "markdown",
      "metadata": {
        "id": "9c0cd5532dc0"
      },
      "source": [
        "## View available commands\n",
        "\n",
        "To view the available commands for the BigQuery command-line tool, use the `help` command."
      ]
    },
    {
      "cell_type": "code",
      "execution_count": null,
      "metadata": {
        "id": "48dd34c4d0a6"
      },
      "outputs": [],
      "source": [
        "!bq help"
      ]
    },
    {
      "cell_type": "markdown",
      "metadata": {
        "id": "4707e73ce040"
      },
      "source": [
        "## Create a new dataset\n",
        "\n",
        "A dataset is contained within a specific [project](https://cloud.google.com/bigquery/docs/projects). Datasets are top-level containers that are used to organize and control access to your [tables](https://cloud.google.com/bigquery/docs/tables) and [views](https://cloud.google.com/bigquery/docs/views). A table or view must belong to a dataset. You need to create at least one dataset before [loading data into BigQuery](https://cloud.google.com/bigquery/loading-data-into-bigquery).\n",
        "\n",
        "First, name your new dataset:"
      ]
    },
    {
      "cell_type": "code",
      "execution_count": null,
      "metadata": {
        "id": "a1976a96ec45"
      },
      "outputs": [],
      "source": [
        "dataset_id = \"your_new_dataset\""
      ]
    },
    {
      "cell_type": "markdown",
      "metadata": {
        "id": "749ff5267f62"
      },
      "source": [
        "The following command creates a new dataset in the US using the ID defined above.\n",
        "\n",
        "NOTE: In the examples in this notebook, the `dataset_id` variable is referenced in the commands using both `{}` and `$`. To avoid creating and using variables, replace these interpolated variables with literal values and remove the `{}` and `$` characters."
      ]
    },
    {
      "cell_type": "code",
      "execution_count": null,
      "metadata": {
        "id": "dae6f9ac8878"
      },
      "outputs": [],
      "source": [
        "!bq --location=US mk --dataset $dataset_id"
      ]
    },
    {
      "cell_type": "markdown",
      "metadata": {
        "id": "a536552f2ff8"
      },
      "source": [
        "The response should look like the following:\n",
        "\n",
        "```\n",
        "Dataset 'your-project-id:your_new_dataset' successfully created.\n",
        "```"
      ]
    },
    {
      "cell_type": "markdown",
      "metadata": {
        "id": "09a8306e9d08"
      },
      "source": [
        "## List datasets\n",
        "\n",
        "The following command lists all datasets in your default project."
      ]
    },
    {
      "cell_type": "code",
      "execution_count": null,
      "metadata": {
        "id": "aca218df34b1"
      },
      "outputs": [],
      "source": [
        "!bq ls"
      ]
    },
    {
      "cell_type": "markdown",
      "metadata": {
        "id": "e31417596d25"
      },
      "source": [
        "The response should look like the following:\n",
        "\n",
        "```\n",
        "           datasetId            \n",
        " ------------------------------ \n",
        "  your_new_dataset              \n",
        "```"
      ]
    },
    {
      "cell_type": "markdown",
      "metadata": {
        "id": "0063c3654c29"
      },
      "source": [
        "## Load data from a local file to a table\n",
        "\n",
        "The following example demonstrates how to load a local CSV file into a new or existing table. See [SourceFormat](https://googleapis.github.io/google-cloud-python/latest/bigquery/generated/google.cloud.bigquery.job.SourceFormat.html#google.cloud.bigquery.job.SourceFormat) in the Python client library documentation for a list of available source formats. For more information, see [Loading Data into BigQuery from a local data source](https://cloud.google.com/bigquery/docs/loading-data-local) in the BigQuery documentation."
      ]
    },
    {
      "cell_type": "code",
      "execution_count": null,
      "metadata": {
        "id": "95dde5b9d27c"
      },
      "outputs": [],
      "source": [
        "!bq \\\n",
        "--location=US load \\\n",
        "--autodetect \\\n",
        "--skip_leading_rows=1 \\\n",
        "--source_format=CSV \\\n",
        "{dataset_id}.us_states_local_file \\\n",
        "'resources/us-states.csv'"
      ]
    },
    {
      "cell_type": "markdown",
      "metadata": {
        "id": "f9a865ba03e0"
      },
      "source": [
        "## Load data from Cloud Storage to a table\n",
        "\n",
        "The following example demonstrates how to load a local CSV file into a new table. See [SourceFormat](https://googleapis.github.io/google-cloud-python/latest/bigquery/generated/google.cloud.bigquery.job.SourceFormat.html#google.cloud.bigquery.job.SourceFormat) in the Python client library documentation for a list of available source formats. For more information, see [Introduction to loading data from Cloud Storage](https://cloud.google.com/bigquery/docs/loading-data-cloud-storage) in the BigQuery documentation."
      ]
    },
    {
      "cell_type": "code",
      "execution_count": null,
      "metadata": {
        "id": "c154d197940c"
      },
      "outputs": [],
      "source": [
        "!bq \\\n",
        "--location=US load \\\n",
        "--autodetect \\\n",
        "--skip_leading_rows=1 \\\n",
        "--source_format=CSV \\\n",
        "{dataset_id}.us_states_gcs \\\n",
        "'gs://cloud-samples-data/bigquery/us-states/us-states.csv'"
      ]
    },
    {
      "cell_type": "markdown",
      "metadata": {
        "id": "4c9583f82e9d"
      },
      "source": [
        "## Run a query\n",
        "\n",
        "The BigQuery command-line tool has a `query` command for running queries, but it is recommended to use the [magic command](./BigQuery%20Query%20Magic.ipynb) for this purpose."
      ]
    },
    {
      "cell_type": "markdown",
      "metadata": {
        "id": "2d40969f0d5a"
      },
      "source": [
        "## Cleaning Up\n",
        "\n",
        "The following code deletes the dataset created for this tutorial, including all tables in the dataset."
      ]
    },
    {
      "cell_type": "code",
      "execution_count": null,
      "metadata": {
        "id": "3448d3fdf567"
      },
      "outputs": [],
      "source": [
        "!bq rm -r -f --dataset $dataset_id"
      ]
    }
  ],
  "metadata": {
    "colab": {
      "name": "bigquery_command_line_tool.ipynb",
      "toc_visible": true
    },
    "kernelspec": {
      "display_name": "Python 3",
      "name": "python3"
    }
  },
  "nbformat": 4,
  "nbformat_minor": 0
}
