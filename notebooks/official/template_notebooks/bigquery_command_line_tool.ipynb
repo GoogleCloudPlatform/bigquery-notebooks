{
  "cells": [
    {
      "cell_type": "code",
      "execution_count": null,
      "source": [
        "# Copyright 2021 Google LLC\n",
        "#\n",
        "# Licensed under the Apache License, Version 2.0 (the \"License\");\n",
        "# you may not use this file except in compliance with the License.\n",
        "# You may obtain a copy of the License at\n",
        "#\n",
        "#     https://www.apache.org/licenses/LICENSE-2.0\n",
        "#\n",
        "# Unless required by applicable law or agreed to in writing, software\n",
        "# distributed under the License is distributed on an \"AS IS\" BASIS,\n",
        "# WITHOUT WARRANTIES OR CONDITIONS OF ANY KIND, either express or implied.\n",
        "# See the License for the specific language governing permissions and\n",
        "# limitations under the License."
      ],
      "outputs": [],
      "metadata": {
        "id": "a6b56b1c7b76"
      }
    },
    {
      "cell_type": "code",
      "execution_count": null,
      "source": [
        "#test"
      ],
      "outputs": [],
      "metadata": {}
    },
    {
      "cell_type": "markdown",
      "source": [
        "# BigQuery command-line tool\n",
        "\n",
        "The BigQuery command-line tool is installed as part of the [Cloud SDK](https://cloud-dot-devsite.googleplex.com/sdk/docs/) and can be used to interact with BigQuery. When you use CLI commands in a notebook, the command must be prepended with a `!`."
      ],
      "metadata": {
        "id": "003dd00ab63b"
      }
    },
    {
      "cell_type": "markdown",
      "source": [
        "## View available commands\n",
        "\n",
        "To view the available commands for the BigQuery command-line tool, use the `help` command."
      ],
      "metadata": {
        "id": "9c0cd5532dc0"
      }
    },
    {
      "cell_type": "code",
      "execution_count": null,
      "source": [
        "!bq help"
      ],
      "outputs": [],
      "metadata": {
        "id": "48dd34c4d0a6"
      }
    },
    {
      "cell_type": "markdown",
      "source": [
        "## Create a new dataset\n",
        "\n",
        "A dataset is contained within a specific [project](https://cloud.google.com/bigquery/docs/projects). Datasets are top-level containers that are used to organize and control access to your [tables](https://cloud.google.com/bigquery/docs/tables) and [views](https://cloud.google.com/bigquery/docs/views). A table or view must belong to a dataset. You need to create at least one dataset before [loading data into BigQuery](https://cloud.google.com/bigquery/loading-data-into-bigquery).\n",
        "\n",
        "First, name your new dataset:"
      ],
      "metadata": {
        "id": "4707e73ce040"
      }
    },
    {
      "cell_type": "code",
      "execution_count": null,
      "source": [
        "dataset_id = \"your_new_dataset\""
      ],
      "outputs": [],
      "metadata": {
        "id": "a1976a96ec45"
      }
    },
    {
      "cell_type": "markdown",
      "source": [
        "The following command creates a new dataset in the US using the ID defined above.\n",
        "\n",
        "NOTE: In the examples in this notebook, the `dataset_id` variable is referenced in the commands using both `{}` and `$`. To avoid creating and using variables, replace these interpolated variables with literal values and remove the `{}` and `$` characters."
      ],
      "metadata": {
        "id": "749ff5267f62"
      }
    },
    {
      "cell_type": "code",
      "execution_count": null,
      "source": [
        "!bq --location=US mk --dataset $dataset_id"
      ],
      "outputs": [],
      "metadata": {
        "id": "dae6f9ac8878"
      }
    },
    {
      "cell_type": "markdown",
      "source": [
        "The response should look like the following:\n",
        "\n",
        "```\n",
        "Dataset 'your-project-id:your_new_dataset' successfully created.\n",
        "```"
      ],
      "metadata": {
        "id": "a536552f2ff8"
      }
    },
    {
      "cell_type": "markdown",
      "source": [
        "## List datasets\n",
        "\n",
        "The following command lists all datasets in your default project."
      ],
      "metadata": {
        "id": "09a8306e9d08"
      }
    },
    {
      "cell_type": "code",
      "execution_count": null,
      "source": [
        "!bq ls"
      ],
      "outputs": [],
      "metadata": {
        "id": "aca218df34b1"
      }
    },
    {
      "cell_type": "markdown",
      "source": [
        "The response should look like the following:\n",
        "\n",
        "```\n",
        "           datasetId            \n",
        " ------------------------------ \n",
        "  your_new_dataset              \n",
        "```"
      ],
      "metadata": {
        "id": "e31417596d25"
      }
    },
    {
      "cell_type": "markdown",
      "source": [
        "## Load data from a local file to a table\n",
        "\n",
        "The following example demonstrates how to load a local CSV file into a new or existing table. See [SourceFormat](https://googleapis.github.io/google-cloud-python/latest/bigquery/generated/google.cloud.bigquery.job.SourceFormat.html#google.cloud.bigquery.job.SourceFormat) in the Python client library documentation for a list of available source formats. For more information, see [Loading Data into BigQuery from a local data source](https://cloud.google.com/bigquery/docs/loading-data-local) in the BigQuery documentation."
      ],
      "metadata": {
        "id": "0063c3654c29"
      }
    },
    {
      "cell_type": "code",
      "execution_count": null,
      "source": [
        "!bq \\\n",
        "--location=US load \\\n",
        "--autodetect \\\n",
        "--skip_leading_rows=1 \\\n",
        "--source_format=CSV \\\n",
        "{dataset_id}.us_states_local_file \\\n",
        "'resources/us-states.csv'"
      ],
      "outputs": [],
      "metadata": {
        "id": "95dde5b9d27c"
      }
    },
    {
      "cell_type": "markdown",
      "source": [
        "## Load data from Cloud Storage to a table\n",
        "\n",
        "The following example demonstrates how to load a local CSV file into a new table. See [SourceFormat](https://googleapis.github.io/google-cloud-python/latest/bigquery/generated/google.cloud.bigquery.job.SourceFormat.html#google.cloud.bigquery.job.SourceFormat) in the Python client library documentation for a list of available source formats. For more information, see [Introduction to loading data from Cloud Storage](https://cloud.google.com/bigquery/docs/loading-data-cloud-storage) in the BigQuery documentation."
      ],
      "metadata": {
        "id": "f9a865ba03e0"
      }
    },
    {
      "cell_type": "code",
      "execution_count": null,
      "source": [
        "!bq \\\n",
        "--location=US load \\\n",
        "--autodetect \\\n",
        "--skip_leading_rows=1 \\\n",
        "--source_format=CSV \\\n",
        "{dataset_id}.us_states_gcs \\\n",
        "'gs://cloud-samples-data/bigquery/us-states/us-states.csv'"
      ],
      "outputs": [],
      "metadata": {
        "id": "c154d197940c"
      }
    },
    {
      "cell_type": "markdown",
      "source": [
        "## Run a query\n",
        "\n",
        "The BigQuery command-line tool has a `query` command for running queries, but it is recommended to use the [magic command](./BigQuery%20Query%20Magic.ipynb) for this purpose."
      ],
      "metadata": {
        "id": "4c9583f82e9d"
      }
    },
    {
      "cell_type": "markdown",
      "source": [
        "## Cleaning Up\n",
        "\n",
        "The following code deletes the dataset created for this tutorial, including all tables in the dataset."
      ],
      "metadata": {
        "id": "2d40969f0d5a"
      }
    },
    {
      "cell_type": "code",
      "execution_count": null,
      "source": [
        "!bq rm -r -f --dataset $dataset_id"
      ],
      "outputs": [],
      "metadata": {
        "id": "3448d3fdf567"
      }
    }
  ],
  "metadata": {
    "colab": {
      "name": "bigquery_command_line_tool.ipynb",
      "toc_visible": true
    },
    "kernelspec": {
      "display_name": "Python 3",
      "name": "python3"
    }
  },
  "nbformat": 4,
  "nbformat_minor": 2
}