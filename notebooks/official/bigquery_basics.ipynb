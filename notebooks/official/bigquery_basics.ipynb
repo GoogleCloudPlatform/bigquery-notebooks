{
  "cells": [
    {
      "cell_type": "markdown",
      "source": [
        "# BigQuery basics\n",
        "\n",
        "[BigQuery](https://cloud.google.com/bigquery/docs/) is a petabyte-scale analytics data warehouse that you can use to run SQL queries over vast amounts of data in near realtime. This page shows you how to get started with the Google BigQuery API using the Python client library.\n",
        "# Test 1\n",
        "# Test 2"
      ],
      "metadata": {
        "id": "8325b47023b3"
      }
    },
    {
      "cell_type": "markdown",
      "source": [
        "## Import the libraries used in this tutorial"
      ],
      "metadata": {
        "id": "d2553a16ab7d"
      }
    },
    {
      "cell_type": "code",
      "execution_count": null,
      "source": [
        "import pandas\n",
        "from google.cloud import bigquery"
      ],
      "outputs": [],
      "metadata": {
        "id": "e35e0390f515"
      }
    },
    {
      "cell_type": "markdown",
      "source": [
        "## Initialize a client\n",
        "\n",
        "To use the BigQuery Python client library, start by initializing a client. The BigQuery client is used to send and receive messages from the BigQuery API.\n",
        "\n",
        "### Client project\n",
        "The `bigquery.Client` object uses your default project. Alternatively, you can specify a project in the `Client` constructor. For more information about how the default project is determined, see the [google-auth documentation](https://google-auth.readthedocs.io/en/latest/reference/google.auth.html).\n",
        "\n",
        "\n",
        "### Client location\n",
        "Locations are required for certain BigQuery operations such as creating a dataset. If a location is provided to the client when it is initialized, it will be the default location for jobs, datasets, and tables.\n",
        "\n",
        "Run the following to create a client with your default project:"
      ],
      "metadata": {
        "id": "5ec6067bdf86"
      }
    },
    {
      "cell_type": "code",
      "execution_count": null,
      "source": [
        "client = bigquery.Client(location=\"US\")\n",
        "print(\"Client creating using default project: {}\".format(client.project))"
      ],
      "outputs": [],
      "metadata": {
        "id": "641cad634140"
      }
    },
    {
      "cell_type": "markdown",
      "source": [
        "To explicitly specify a project when constructing the client, set the `project` parameter:"
      ],
      "metadata": {
        "id": "6fd571609f6f"
      }
    },
    {
      "cell_type": "code",
      "execution_count": null,
      "source": [
        "# client = bigquery.Client(location=\"US\", project=\"your-project-id\")"
      ],
      "outputs": [],
      "metadata": {
        "id": "f9f2c995c092"
      }
    },
    {
      "cell_type": "markdown",
      "source": [
        "## Run a query on a public dataset\n",
        "\n",
        "The following example queries the BigQuery `usa_names` public dataset to find the 10 most popular names. `usa_names` is a Social Security Administration dataset that contains all names from Social Security card applications for births that occurred in the United States after 1879.\n",
        "\n",
        "Use the [Client.query](https://googleapis.github.io/google-cloud-python/latest/bigquery/generated/google.cloud.bigquery.client.Client.html#google.cloud.bigquery.client.Client.query) method to run the query, and the [QueryJob.to_dataframe](https://googleapis.github.io/google-cloud-python/latest/bigquery/generated/google.cloud.bigquery.job.QueryJob.html#google.cloud.bigquery.job.QueryJob.to_dataframe) method to return the results as a pandas [`DataFrame`](http://pandas.pydata.org/pandas-docs/stable/generated/pandas.DataFrame.html)."
      ],
      "metadata": {
        "id": "eb6cdcf6437c"
      }
    },
    {
      "cell_type": "code",
      "execution_count": null,
      "source": [
        "query = \"\"\"\n",
        "    SELECT name, SUM(number) as total\n",
        "    FROM `bigquery-public-data.usa_names.usa_1910_current`\n",
        "    GROUP BY name\n",
        "    ORDER BY total DESC\n",
        "    LIMIT 10\n",
        "\"\"\"\n",
        "query_job = client.query(\n",
        "    query,\n",
        "    # Location must match that of the dataset(s) referenced in the query.\n",
        "    location=\"US\",\n",
        ")  # API request - starts the query\n",
        "\n",
        "df = query_job.to_dataframe()\n",
        "df"
      ],
      "outputs": [],
      "metadata": {
        "id": "238bd779342a"
      }
    },
    {
      "cell_type": "markdown",
      "source": [
        "## Run a parameterized query\n",
        "\n",
        "BigQuery supports query parameters to help prevent [SQL injection](https://en.wikipedia.org/wiki/SQL_injection) when you construct a query with user input. Query parameters are only available with [standard SQL syntax](https://cloud.google.com/bigquery/docs/reference/standard-sql/). Query parameters can be used as substitutes for arbitrary expressions. Parameters cannot be used as substitutes for identifiers, column names, table names, or other parts of the query.\n",
        "\n",
        "To specify a parameter, use the `@` character followed by an [identifier](https://cloud.google.com/bigquery/docs/reference/standard-sql/lexical#identifiers), such as `@param_name`. For example, the following query finds all the words in a specific Shakespeare corpus with counts that are at least the specified value.\n",
        "\n",
        "For more information, see [Running parameterized queries](https://cloud.google.com/bigquery/docs/parameterized-queries) in the BigQuery documentation."
      ],
      "metadata": {
        "id": "38d0e910446a"
      }
    },
    {
      "cell_type": "code",
      "execution_count": null,
      "source": [
        "# Define the query\n",
        "sql = \"\"\"\n",
        "    SELECT word, word_count\n",
        "    FROM `bigquery-public-data.samples.shakespeare`\n",
        "    WHERE corpus = @corpus\n",
        "    AND word_count >= @min_word_count\n",
        "    ORDER BY word_count DESC;\n",
        "\"\"\"\n",
        "\n",
        "# Define the parameter values in a query job configuration\n",
        "job_config = bigquery.QueryJobConfig(\n",
        "    query_parameters=[\n",
        "        bigquery.ScalarQueryParameter(\"corpus\", \"STRING\", \"romeoandjuliet\"),\n",
        "        bigquery.ScalarQueryParameter(\"min_word_count\", \"INT64\", 250),\n",
        "    ]\n",
        ")\n",
        "\n",
        "# Start the query job\n",
        "query_job = client.query(sql, location=\"US\", job_config=job_config)\n",
        "\n",
        "# Return the results as a pandas DataFrame\n",
        "query_job.to_dataframe()"
      ],
      "outputs": [],
      "metadata": {
        "id": "e9fbd725c101"
      }
    },
    {
      "cell_type": "markdown",
      "source": [
        "## Create a new dataset\n",
        "\n",
        "A dataset is contained within a specific [project](https://cloud.google.com/bigquery/docs/projects). Datasets are top-level containers that are used to organize and control access to your [tables](https://cloud.google.com/bigquery/docs/tables) and [views](https://cloud.google.com/bigquery/docs/views). A table or view must belong to a dataset. You need to create at least one dataset before [loading data into BigQuery](https://cloud.google.com/bigquery/loading-data-into-bigquery)."
      ],
      "metadata": {
        "id": "905cbe56e2f6"
      }
    },
    {
      "cell_type": "code",
      "execution_count": null,
      "source": [
        "# Define a name for the new dataset.\n",
        "dataset_id = \"your_new_dataset\"\n",
        "\n",
        "# The project defaults to the Client's project if not specified.\n",
        "dataset = client.create_dataset(dataset_id)  # API request"
      ],
      "outputs": [],
      "metadata": {
        "id": "6e36a9c06956"
      }
    },
    {
      "cell_type": "markdown",
      "source": [
        "## Write query results to a destination table\n",
        "\n",
        "For more information, see [Writing query results](https://cloud.google.com/bigquery/docs/writing-results) in the BigQuery documentation."
      ],
      "metadata": {
        "id": "fa26a63aaa6d"
      }
    },
    {
      "cell_type": "code",
      "execution_count": null,
      "source": [
        "sql = \"\"\"\n",
        "    SELECT corpus\n",
        "    FROM `bigquery-public-data.samples.shakespeare`\n",
        "    GROUP BY corpus;\n",
        "\"\"\"\n",
        "table_ref = dataset.table(\"your_new_table_id\")\n",
        "job_config = bigquery.QueryJobConfig(destination=table_ref)\n",
        "\n",
        "# Start the query, passing in the extra configuration.\n",
        "query_job = client.query(sql, location=\"US\", job_config=job_config)\n",
        "\n",
        "query_job.result()  # Waits for the query to finish\n",
        "print(\"Query results loaded to table {}\".format(table_ref.path))"
      ],
      "outputs": [],
      "metadata": {
        "id": "a108fc4020f3"
      }
    },
    {
      "cell_type": "markdown",
      "source": [
        "## Load data from a pandas DataFrame to a new table"
      ],
      "metadata": {
        "id": "c90345535834"
      }
    },
    {
      "cell_type": "code",
      "execution_count": null,
      "source": [
        "records = [\n",
        "    {\"title\": \"The Meaning of Life\", \"release_year\": 1983},\n",
        "    {\"title\": \"Monty Python and the Holy Grail\", \"release_year\": 1975},\n",
        "    {\"title\": \"Life of Brian\", \"release_year\": 1979},\n",
        "    {\"title\": \"And Now for Something Completely Different\", \"release_year\": 1971},\n",
        "]\n",
        "\n",
        "# Optionally set explicit indices.\n",
        "# If indices are not specified, a column will be created for the default\n",
        "# indices created by pandas.\n",
        "index = [\"Q24980\", \"Q25043\", \"Q24953\", \"Q16403\"]\n",
        "df = pandas.DataFrame(records, index=pandas.Index(index, name=\"wikidata_id\"))\n",
        "\n",
        "table_ref = dataset.table(\"monty_python\")\n",
        "job = client.load_table_from_dataframe(df, table_ref, location=\"US\")\n",
        "\n",
        "job.result()  # Waits for table load to complete.\n",
        "print(\"Loaded dataframe to {}\".format(table_ref.path))"
      ],
      "outputs": [],
      "metadata": {
        "id": "f790afa31b5b"
      }
    },
    {
      "cell_type": "markdown",
      "source": [
        "## Load data from a local file to a table\n",
        "\n",
        "The following example demonstrates how to load a local CSV file into a new table. See [SourceFormat](https://googleapis.github.io/google-cloud-python/latest/bigquery/generated/google.cloud.bigquery.job.SourceFormat.html#google.cloud.bigquery.job.SourceFormat) in the Python client library documentation for a list of available source formats. For more information, see [Loading Data into BigQuery from a local data source](https://cloud.google.com/bigquery/docs/loading-data-local) in the BigQuery documentation."
      ],
      "metadata": {
        "id": "88c82fbaa552"
      }
    },
    {
      "cell_type": "code",
      "execution_count": null,
      "source": [
        "source_filename = \"resources/us-states.csv\"\n",
        "\n",
        "table_ref = dataset.table(\"us_states_from_local_file\")\n",
        "job_config = bigquery.LoadJobConfig(\n",
        "    source_format=bigquery.SourceFormat.CSV, skip_leading_rows=1, autodetect=True\n",
        ")\n",
        "\n",
        "with open(source_filename, \"rb\") as source_file:\n",
        "    job = client.load_table_from_file(\n",
        "        source_file,\n",
        "        table_ref,\n",
        "        location=\"US\",  # Must match the destination dataset location.\n",
        "        job_config=job_config,\n",
        "    )  # API request\n",
        "\n",
        "job.result()  # Waits for table load to complete.\n",
        "\n",
        "print(\"Loaded {} rows into {}:{}.\".format(job.output_rows, dataset_id, table_ref.path))"
      ],
      "outputs": [],
      "metadata": {
        "id": "6be014b2fdd5"
      }
    },
    {
      "cell_type": "markdown",
      "source": [
        "## Load data from Cloud Storage to a table\n",
        "\n",
        "The following example demonstrates how to load a local CSV file into a new table. See [SourceFormat](https://googleapis.github.io/google-cloud-python/latest/bigquery/generated/google.cloud.bigquery.job.SourceFormat.html#google.cloud.bigquery.job.SourceFormat) in the Python client library documentation for a list of available source formats. For more information, see [Introduction to loading data from Cloud Storage](https://cloud.google.com/bigquery/docs/loading-data-cloud-storage) in the BigQuery documentation."
      ],
      "metadata": {
        "id": "53f109755cb4"
      }
    },
    {
      "cell_type": "code",
      "execution_count": null,
      "source": [
        "# Configure the load job\n",
        "job_config = bigquery.LoadJobConfig(\n",
        "    schema=[\n",
        "        bigquery.SchemaField(\"name\", \"STRING\"),\n",
        "        bigquery.SchemaField(\"post_abbr\", \"STRING\"),\n",
        "    ],\n",
        "    skip_leading_rows=1,\n",
        "    # The source format defaults to CSV. The line below is optional.\n",
        "    source_format=bigquery.SourceFormat.CSV,\n",
        ")\n",
        "uri = \"gs://cloud-samples-data/bigquery/us-states/us-states.csv\"\n",
        "destination_table_ref = dataset.table(\"us_states_from_gcs\")\n",
        "\n",
        "# Start the load job\n",
        "load_job = client.load_table_from_uri(uri, destination_table_ref, job_config=job_config)\n",
        "print(\"Starting job {}\".format(load_job.job_id))\n",
        "\n",
        "load_job.result()  # Waits for table load to complete.\n",
        "print(\"Job finished.\")\n",
        "\n",
        "# Retreive the destination table\n",
        "destination_table = client.get_table(table_ref)\n",
        "print(\"Loaded {} rows.\".format(destination_table.num_rows))"
      ],
      "outputs": [],
      "metadata": {
        "id": "3d6e3c32edba"
      }
    },
    {
      "cell_type": "markdown",
      "source": [
        "## Cleaning Up\n",
        "\n",
        "The following code deletes the dataset created for this tutorial, including all tables in the dataset."
      ],
      "metadata": {
        "id": "21e422bb8860"
      }
    },
    {
      "cell_type": "code",
      "execution_count": null,
      "source": [
        "# Retrieve the dataset from the API\n",
        "dataset = client.get_dataset(client.dataset(dataset_id))\n",
        "\n",
        "# Delete the dataset and its contents\n",
        "client.delete_dataset(dataset, delete_contents=True)\n",
        "\n",
        "print(\"Deleted dataset: {}\".format(dataset.path))"
      ],
      "outputs": [],
      "metadata": {
        "id": "9e63bbfd1be3"
      }
    }
  ],
  "metadata": {
    "colab": {
      "name": "bigquery_basics_test.ipynb",
      "toc_visible": true
    },
    "kernelspec": {
      "display_name": "Python 3",
      "name": "python3"
    }
  },
  "nbformat": 4,
  "nbformat_minor": 2
}