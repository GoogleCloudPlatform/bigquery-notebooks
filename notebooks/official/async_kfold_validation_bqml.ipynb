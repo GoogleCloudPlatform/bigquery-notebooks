{
  "nbformat": 4,
  "nbformat_minor": 5,
  "metadata": {
    "environment": {
      "name": "managed-notebooks.m70",
      "type": "gcloud",
      "uri": "gcr.io/deeplearning-platform-release/managed-notebooks:m70"
    },
    "kernelspec": {
      "display_name": "Python",
      "language": "python",
      "name": "base"
    },
    "language_info": {
      "codemirror_mode": {
        "name": "ipython",
        "version": 3
      },
      "file_extension": ".py",
      "mimetype": "text/x-python",
      "name": "python",
      "nbconvert_exporter": "python",
      "pygments_lexer": "ipython3",
      "version": "3.7.10"
    },
    "colab": {
      "name": "asynch_kfold_validation_bqml.ipynb",
      "provenance": [],
      "collapsed_sections": []
    }
  },
  "cells": [
    {
      "cell_type": "markdown",
      "metadata": {
        "id": "6c820d08"
      },
      "source": [
        "# K fold cross validation with BQML\n",
        "***Make a copy of this notebook***\n",
        "\n",
        "Created By: steveswalker@\n",
        "\n",
        "Created On: 08/01/2021\n",
        "\n",
        "Updated On: 08/01/2021\n",
        "### This notebook is hard-coded to perform a BOOSTED_TREE_CLASSIFIER.  It will create a query for each kfold, then build k number of models consecutively, asynchronously.  \n",
        "Thanks, rthallam@ for the callback example\n",
        "\n",
        "Improvement opps:\n",
        "*   Add eval results to a permanent BQ table to allow for historical kfold tracking\n",
        "*   Add different BQML model support\n",
        "*   Consider Project Beatrix for scheduling/'callable' options\n"
      ],
      "id": "6c820d08"
    },
    {
      "cell_type": "code",
      "metadata": {
        "id": "dbdd3076"
      },
      "source": [
        "from google.cloud import bigquery\n",
        "import time\n",
        "import os\n",
        "!pip install ipython-autotime \n",
        "#times each cell runtime.\n",
        "%load_ext autotime \n",
        "\n",
        "PROJECT = 'bigquery-test-project-166321' #changeme\n",
        "DS = 'bqml' #changeme\n",
        "MODEL_NAME = \"kfold_\"\n",
        "K = 5 #change if necessary"
      ],
      "id": "dbdd3076",
      "execution_count": null,
      "outputs": []
    },
    {
      "cell_type": "code",
      "metadata": {
        "id": "1ENrAiLJsFFy"
      },
      "source": [
        "from google.colab import auth\n",
        "auth.authenticate_user()\n",
        "os.environ['GCLOUD_PROJECT']=PROJECT\n",
        "print('Authenticated and set project to {}'.format(os.environ['GCLOUD_PROJECT']))"
      ],
      "id": "1ENrAiLJsFFy",
      "execution_count": null,
      "outputs": []
    },
    {
      "cell_type": "code",
      "metadata": {
        "id": "b669db4f"
      },
      "source": [
        "client = bigquery.Client()\n",
        "poll_jobs = set()"
      ],
      "id": "b669db4f",
      "execution_count": null,
      "outputs": []
    },
    {
      "cell_type": "code",
      "metadata": {
        "id": "96f62074"
      },
      "source": [
        "#set up array to hold queries\n",
        "queries = []\n",
        "X = 1\n",
        "for i in range(0,K):\n",
        "    #an easy way to debug is, instead of doing a queries.append here, just do a print(), that way you can see the final, formatted sql\n",
        "    queries.append(\"CREATE OR REPLACE MODEL `\" + PROJECT + \".\" + DS + \".\" + MODEL_NAME +  str(X) + \"` OPTIONS(model_type='BOOSTED_TREE_CLASSIFIER', DATA_SPLIT_METHOD='CUSTOM', DATA_SPLIT_COL='bCustomSplit', input_label_cols=['income_bracket']) as with cte as (SELECT *, CONCAT('K',CAST(MOD(ABS(FARM_FINGERPRINT(to_json_STRING(x))),\" +  str(K) +  \") +1 as STRING)) as ksplit_col FROM  `bigquery-public-data.ml_datasets.census_adult_income` x) SELECT age, workclass, functional_weight, education, education_num, marital_status,  relationship, race, sex, capital_gain, capital_loss, hours_per_week, native_country, income_bracket,ksplit_col, IF(ksplit_col = 'K\" + str(X) + \"',TRUE,FALSE) bCustomSplit from cte\")\n",
        "    X = X + 1"
      ],
      "id": "96f62074",
      "execution_count": null,
      "outputs": []
    },
    {
      "cell_type": "markdown",
      "metadata": {
        "id": "OIcpk1I_rP8T"
      },
      "source": [
        ""
      ],
      "id": "OIcpk1I_rP8T"
    },
    {
      "cell_type": "code",
      "metadata": {
        "id": "ns0IlKCRFBvx"
      },
      "source": [
        "def handle_status(query_status):\n",
        "    status = \"{}\".format(query_status.state)\n",
        "    if status == 'RUNNING':\n",
        "      print(\"Job {} is currently in state {}\".format(query_status.job_id, query_status.state))\n",
        "    elif status == 'DONE':\n",
        "      print(\"Job {} is currently in state {}\".format(query_status.job_id, query_status.state))\n",
        "    elif status == 'SUCCESS':\n",
        "      print(\"Job {} is currently in state {}\".format(query_status.job_id, query_status.state))\n",
        "    elif status == 'FAILURE':\n",
        "      print(\"Job {} is currently in state {} with error: {}\".format(query_status.job_id, query_status.state, query_status.error_result))  "
      ],
      "id": "ns0IlKCRFBvx",
      "execution_count": null,
      "outputs": []
    },
    {
      "cell_type": "code",
      "metadata": {
        "id": "016e6fca"
      },
      "source": [
        "def flag_completed_query(future):\n",
        "    query_status = client.get_job(future.job_id, location=future.location)\n",
        "    handle_status(query_status)\n",
        "    poll_jobs.discard(future.job_id)"
      ],
      "id": "016e6fca",
      "execution_count": null,
      "outputs": []
    },
    {
      "cell_type": "code",
      "metadata": {
        "id": "c4dec98d"
      },
      "source": [
        "#loop through queries array and run each query, asynch, as a bq job\n",
        "X = 1\n",
        "for i in range(0,K):\n",
        "    query_job = client.query(\"CREATE OR REPLACE MODEL `\" + PROJECT + \".\" + DS + \".\" + MODEL_NAME +  str(X) + \"` OPTIONS(model_type='BOOSTED_TREE_CLASSIFIER', DATA_SPLIT_METHOD='CUSTOM', DATA_SPLIT_COL='bCustomSplit', \\\n",
        "    input_label_cols=['income_bracket']) as with cte as (SELECT *, CONCAT('K',CAST(MOD(ABS(FARM_FINGERPRINT(to_json_STRING(x))),\" +  str(K) +  \") +1 as STRING)) as ksplit_col FROM  `bigquery-public-data.ml_datasets.census_adult_income` x) \\\n",
        "    SELECT age, workclass, functional_weight, education, education_num, marital_status,  relationship, race, sex, capital_gain, capital_loss, hours_per_week, native_country, income_bracket,ksplit_col, IF(ksplit_col = 'K\" + str(X) + \"',TRUE,FALSE) bCustomSplit from cte\")\n",
        "    \n",
        "    poll_jobs.add(query_job.job_id)\n",
        "    #add callbabck function from query jobs.  Callback will automagically notify our colab when it is done\n",
        "    query_job.add_done_callback(flag_completed_query)\n",
        "    query_status = client.get_job(query_job.job_id, location=query_job.location)\n",
        "    handle_status(query_status)\n",
        "    X = X + 1\n",
        "\n",
        "while poll_jobs:\n",
        "    print('waiting for queries to finish ... sleeping for 23s')\n",
        "    time.sleep(23)"
      ],
      "id": "c4dec98d",
      "execution_count": null,
      "outputs": []
    },
    {
      "cell_type": "code",
      "metadata": {
        "id": "86a37a1a"
      },
      "source": [
        "#we created the models with \"CUSTOM\" split, and used the kfold ID column as the split info\n",
        "#which means the model build process already evaluated the model with the correct eval holdout data\n",
        "#so, just run the ml.evaluate, with model name, no need to pass in holdout data set\n",
        "X = 1\n",
        "poll_jobs = set()\n",
        "#create new table to hold eval data \"Limit 0\" returns just schema\n",
        "query = \"create or replace table \" +  PROJECT + \".\" + DS + \".\" + \"tmp_kfold as select * from ml.evaluate(model `\" + PROJECT + \".\" + DS + \".\" + MODEL_NAME + str(X) + \"` Limit 0)\"\n",
        "query_job = client.query(query)\n",
        "while X < K + 1:\n",
        "        query = \"INSERT INTO `\" + PROJECT + \".\" + DS + \".\" + \"tmp_kfold\" + \"` select * from ml.evaluate(model `\" + PROJECT + \".\" + DS + \".\" + MODEL_NAME + str(X) + \"`)\"\n",
        "        query_job = client.query(query)\n",
        "        poll_jobs.add(query_job.job_id)\n",
        "        query_job.add_done_callback(flag_completed_query)\n",
        "        query_status = client.get_job(query_job.job_id, location=query_job.location)\n",
        "        X += 1"
      ],
      "id": "86a37a1a",
      "execution_count": null,
      "outputs": []
    },
    {
      "cell_type": "code",
      "metadata": {
        "id": "16a7e634"
      },
      "source": [
        "#table with all the kfold results\n",
        "query = \"SELECT * FROM `\" + PROJECT + \".\" + DS + \".\" + \"tmp_kfold\" + \"`\"\n",
        "df = client.query(query).to_dataframe()\n",
        "df.head(K)"
      ],
      "id": "16a7e634",
      "execution_count": null,
      "outputs": []
    },
    {
      "cell_type": "code",
      "metadata": {
        "id": "f094029b"
      },
      "source": [
        "#avg the ROC AUC across all models, that is your kfold validation score\n",
        "query = \"SELECT AVG(roc_auc) kfold_auc_roc from `\" + PROJECT + \".\" + DS + \".\" + \"tmp_kfold\" + \"`\"\n",
        "df = client.query(query).to_dataframe()\n",
        "print('kFold Validation ROC AUC = ' + str(df.loc[0,'kfold_auc_roc']))"
      ],
      "id": "f094029b",
      "execution_count": null,
      "outputs": []
    }
  ]
}