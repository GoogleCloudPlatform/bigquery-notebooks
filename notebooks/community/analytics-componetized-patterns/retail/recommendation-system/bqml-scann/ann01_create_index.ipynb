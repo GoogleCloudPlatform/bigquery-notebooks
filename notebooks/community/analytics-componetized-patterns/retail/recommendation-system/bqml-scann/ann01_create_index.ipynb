{
  "cells": [
    {
      "cell_type": "markdown",
      "metadata": {
        "id": "bc22a7dc2f5e"
      },
      "source": [
        "# Low-latency item-to-item recommendation system - Creating ANN index"
      ]
    },
    {
      "cell_type": "markdown",
      "metadata": {
        "id": "81a1adaa3d3e"
      },
      "source": [
        "## Overview\n",
        "\n",
        "This notebook is a part of the series that describes the process of implementing a [**Low-latency item-to-item recommendation system**](https://github.com/jarokaz/analytics-componentized-patterns/tree/master/retail/recommendation-system/bqml-scann).\n",
        "\n",
        "The notebook demonstrates how to create and deploy an ANN index using item embeddings created in the preceding notebooks. In this notebook you go through the following steps.\n",
        "\n",
        "1. Exporting embeddings from BigQuery into the JSONL formated file.\n",
        "2. Creating an ANN Index using the exported embeddings.\n",
        "3. Creating and ANN Endpoint. \n",
        "4. Deploying the ANN Index to the ANN Endpoint.\n",
        "5. Testing the deployed ANN Index.\n",
        "\n",
        "This notebook was designed to run on [AI Platform Notebooks](https://cloud.google.com/ai-platform-notebooks). Before running the notebook make sure that you have completed the setup steps as described in the [README file](README.md).\n"
      ]
    },
    {
      "cell_type": "markdown",
      "metadata": {
        "id": "82b7a7ad2883"
      },
      "source": [
        "## Setting up the notebook's environment\n"
      ]
    },
    {
      "cell_type": "markdown",
      "metadata": {
        "id": "6f9b03334bbd"
      },
      "source": [
        "### Import notebook dependencies"
      ]
    },
    {
      "cell_type": "code",
      "execution_count": null,
      "metadata": {
        "id": "79d5bd6d48d4"
      },
      "outputs": [],
      "source": [
        "import base64\n",
        "import datetime\n",
        "import json\n",
        "import logging\n",
        "import os\n",
        "import sys\n",
        "import time\n",
        "from typing import List, Optional, Text, Tuple\n",
        "\n",
        "import google.auth\n",
        "import grpc\n",
        "import numpy as np\n",
        "import pandas as pd\n",
        "import tensorflow.io as tf_io\n",
        "from google.cloud import bigquery"
      ]
    },
    {
      "cell_type": "markdown",
      "metadata": {
        "id": "381c1f532e4c"
      },
      "source": [
        "In the experimental release, the *Online Querying API* of the ANN service is exposed throught the GRPC interface. The `ann_grpc` folder contains the grpc client stub to interface to the API."
      ]
    },
    {
      "cell_type": "code",
      "execution_count": null,
      "metadata": {
        "id": "232ba4f3d013"
      },
      "outputs": [],
      "source": [
        "ANN_GRPC_ENDPOINT_STUB = \"ann_grpc\"\n",
        "if ANN_GRPC_ENDPOINT_STUB not in sys.path:\n",
        "    sys.path.append(ANN_GRPC_ENDPOINT_STUB)"
      ]
    },
    {
      "cell_type": "code",
      "execution_count": null,
      "metadata": {
        "id": "23becb2bd97f"
      },
      "outputs": [],
      "source": [
        "import ann_grpc.match_pb2 as match_pb2\n",
        "import ann_grpc.match_pb2_grpc as match_pb2_grpc"
      ]
    },
    {
      "cell_type": "markdown",
      "metadata": {
        "id": "e592ab12569b"
      },
      "source": [
        "### Configure GCP environment\n",
        "\n",
        "Set the following constants to the values reflecting your environment:\n",
        "\n",
        "* `PROJECT_ID` - your GCP project ID.\n",
        "* `PROJECT_NUMBER` - your GCP project number.\n",
        "* `BQ_DATASET_NAME` - the name of the BigQuery dataset that contains the item embeddings table.\n",
        "* `BQ_LOCATION` - the dataset location\n",
        "* `DATA_LOCATION` - a GCS location for the exported embeddings (JSONL) files.\n",
        "* `VPC_NAME` - a name of the GCP VPC to use for the index deployments. Use the name of the VPC prepared during the initial setup. \n",
        "* `REGION` - a compute region. Don't change the default - `us-central` - while the ANN Service is in the experimental stage\n"
      ]
    },
    {
      "cell_type": "code",
      "execution_count": null,
      "metadata": {
        "id": "57d91558803a"
      },
      "outputs": [],
      "source": [
        "PROJECT_ID = \"jk-mlops-dev\"  # <-CHANGE THIS\n",
        "PROJECT_NUMBER = \"895222332033\"  # <-CHANGE THIS\n",
        "BQ_DATASET_NAME = \"song_embeddings\"  # <- CHANGE THIS\n",
        "BQ_LOCATION = \"US\"  # <- CHANGE THIS\n",
        "DATA_LOCATION = \"gs://jk-ann-staging/embeddings\"  # <-CHANGE THIS\n",
        "VPC_NAME = \"default\"  # <-CHANGE THIS\n",
        "\n",
        "EMBEDDINGS_TABLE = \"item_embeddings\"\n",
        "REGION = \"us-central1\"\n",
        "MATCH_SERVICE_PORT = 10000"
      ]
    },
    {
      "cell_type": "markdown",
      "metadata": {
        "id": "f43d2b854dee"
      },
      "source": [
        "## Exporting the embeddings\n",
        "\n",
        "In the preceeding notebooks you trained the Matrix Factorization BQML model and exported the embeddings to the `item_embeddings` table. \n",
        "\n",
        "In this step you will extract the embeddings to a set of JSONL files in the format required by the ANN service."
      ]
    },
    {
      "cell_type": "markdown",
      "metadata": {
        "id": "be9fe40ffb2f"
      },
      "source": [
        "### Verify the number of embeddings"
      ]
    },
    {
      "cell_type": "code",
      "execution_count": null,
      "metadata": {
        "id": "9de37df08e84"
      },
      "outputs": [],
      "source": [
        "client = bigquery.Client(project=PROJECT_ID, location=BQ_LOCATION)"
      ]
    },
    {
      "cell_type": "code",
      "execution_count": null,
      "metadata": {
        "id": "1939f46662a6"
      },
      "outputs": [],
      "source": [
        "query = f\"\"\"\n",
        "    SELECT COUNT(*) embedding_count\n",
        "    FROM {BQ_DATASET_NAME}.item_embeddings;\n",
        "\"\"\"\n",
        "\n",
        "query_job = client.query(query)\n",
        "query_job.to_dataframe()"
      ]
    },
    {
      "cell_type": "markdown",
      "metadata": {
        "id": "df8b542b7cd7"
      },
      "source": [
        "### Export the embeddings\n",
        "\n",
        "You will use the [BigQuery export job](https://cloud.google.com/bigquery/docs/exporting-data) to export the embeddings table."
      ]
    },
    {
      "cell_type": "code",
      "execution_count": null,
      "metadata": {
        "id": "2d18a376fe7c"
      },
      "outputs": [],
      "source": [
        "file_name_pattern = \"embedding-*.json\"\n",
        "destination_uri = f\"{DATA_LOCATION}/{file_name_pattern}\"\n",
        "table_id = \"item_embeddings\"\n",
        "destination_format = \"NEWLINE_DELIMITED_JSON\"\n",
        "\n",
        "dataset_ref = bigquery.DatasetReference(PROJECT_ID, BQ_DATASET_NAME)\n",
        "table_ref = dataset_ref.table(table_id)\n",
        "job_config = bigquery.job.ExtractJobConfig()\n",
        "job_config.destination_format = bigquery.DestinationFormat.NEWLINE_DELIMITED_JSON\n",
        "\n",
        "extract_job = client.extract_table(\n",
        "    table_ref,\n",
        "    destination_uris=destination_uri,\n",
        "    job_config=job_config,\n",
        "    # location=BQ_LOCATION,\n",
        ")\n",
        "\n",
        "extract_job.result()"
      ]
    },
    {
      "cell_type": "markdown",
      "metadata": {
        "id": "2fcd548b2ea5"
      },
      "source": [
        "Inspect the extracted files."
      ]
    },
    {
      "cell_type": "code",
      "execution_count": null,
      "metadata": {
        "id": "613b32e8e29f"
      },
      "outputs": [],
      "source": [
        "! gsutil ls {DATA_LOCATION}"
      ]
    },
    {
      "cell_type": "markdown",
      "metadata": {
        "id": "dc77123c2f16"
      },
      "source": [
        "## Creating an ANN index deployment\n",
        "\n",
        "Deploying an ANN index is a 3 step process:\n",
        "1. Creating an index from source files\n",
        "2. Creating an endpoint to access the index\n",
        "3. Deploying the index to the endpoint\n",
        "\n",
        "\n",
        "You will use the REST interface to invoke the AI Platform ANN Service Control Plane API that manages indexes, endpoints, and deployments.\n",
        "\n",
        "After the index has been deployed you can submit matching requests using Online Querying API. In the experimental stage this API is only accessible through the gRPC interface.\n"
      ]
    },
    {
      "cell_type": "markdown",
      "metadata": {
        "id": "76b97e22af97"
      },
      "source": [
        "### Define helper classes to encapsulate the ANN Service REST API.\n",
        "\n",
        "Currently, there is no Python client that encapsulates the ANN Service Control Plane API. The below code snippet defines a simple wrapper that encapsulates a subset of REST APIs used in this notebook.\n"
      ]
    },
    {
      "cell_type": "code",
      "execution_count": null,
      "metadata": {
        "id": "21d862d3bdce"
      },
      "outputs": [],
      "source": [
        "import datetime\n",
        "import json\n",
        "import logging\n",
        "import time\n",
        "\n",
        "import google.auth\n",
        "\n",
        "\n",
        "class ANNClient(object):\n",
        "    \"\"\"Base ANN Service client.\"\"\"\n",
        "\n",
        "    def __init__(self, project_id, project_number, region):\n",
        "        credentials, _ = google.auth.default()\n",
        "        self.authed_session = google.auth.transport.requests.AuthorizedSession(\n",
        "            credentials\n",
        "        )\n",
        "        self.ann_endpoint = f\"{region}-aiplatform.googleapis.com\"\n",
        "        self.ann_parent = f\"https://{self.ann_endpoint}/v1alpha1/projects/{project_id}/locations/{region}\"\n",
        "        self.project_id = project_id\n",
        "        self.project_number = project_number\n",
        "        self.region = region\n",
        "\n",
        "    def wait_for_completion(self, operation_id, message, sleep_time):\n",
        "        \"\"\"Waits for a completion of a long running operation.\"\"\"\n",
        "\n",
        "        api_url = f\"{self.ann_parent}/operations/{operation_id}\"\n",
        "\n",
        "        start_time = datetime.datetime.utcnow()\n",
        "        while True:\n",
        "            response = self.authed_session.get(api_url)\n",
        "            if response.status_code != 200:\n",
        "                raise RuntimeError(response.json())\n",
        "            if \"done\" in response.json().keys():\n",
        "                logging.info(\"Operation completed!\")\n",
        "                break\n",
        "            elapsed_time = datetime.datetime.utcnow() - start_time\n",
        "            logging.info(\n",
        "                \"{}. Elapsed time since start: {}.\".format(message, str(elapsed_time))\n",
        "            )\n",
        "            time.sleep(sleep_time)\n",
        "\n",
        "        return response.json()[\"response\"]\n",
        "\n",
        "\n",
        "class IndexClient(ANNClient):\n",
        "    \"\"\"Encapsulates a subset of control plane APIs\n",
        "    that manage ANN indexes.\"\"\"\n",
        "\n",
        "    def __init__(self, project_id, project_number, region):\n",
        "        super().__init__(project_id, project_number, region)\n",
        "\n",
        "    def create_index(self, display_name, description, metadata):\n",
        "        \"\"\"Creates an ANN Index.\"\"\"\n",
        "\n",
        "        api_url = f\"{self.ann_parent}/indexes\"\n",
        "\n",
        "        request_body = {\n",
        "            \"display_name\": display_name,\n",
        "            \"description\": description,\n",
        "            \"metadata\": metadata,\n",
        "        }\n",
        "\n",
        "        response = self.authed_session.post(api_url, data=json.dumps(request_body))\n",
        "        if response.status_code != 200:\n",
        "            raise RuntimeError(response.text)\n",
        "        operation_id = response.json()[\"name\"].split(\"/\")[-1]\n",
        "\n",
        "        return operation_id\n",
        "\n",
        "    def list_indexes(self, display_name=None):\n",
        "        \"\"\"Lists all indexes with a given display name or\n",
        "        all indexes if the display_name is not provided.\"\"\"\n",
        "\n",
        "        if display_name:\n",
        "            api_url = f'{self.ann_parent}/indexes?filter=display_name=\"{display_name}\"'\n",
        "        else:\n",
        "            api_url = f\"{self.ann_parent}/indexes\"\n",
        "\n",
        "        response = self.authed_session.get(api_url).json()\n",
        "\n",
        "        return response[\"indexes\"] if response else []\n",
        "\n",
        "    def delete_index(self, index_id):\n",
        "        \"\"\"Deletes an ANN index.\"\"\"\n",
        "\n",
        "        api_url = f\"{self.ann_parent}/indexes/{index_id}\"\n",
        "        response = self.authed_session.delete(api_url)\n",
        "        if response.status_code != 200:\n",
        "            raise RuntimeError(response.text)\n",
        "\n",
        "\n",
        "class IndexDeploymentClient(ANNClient):\n",
        "    \"\"\"Encapsulates a subset of control plane APIs\n",
        "    that manage ANN endpoints and deployments.\"\"\"\n",
        "\n",
        "    def __init__(self, project_id, project_number, region):\n",
        "        super().__init__(project_id, project_number, region)\n",
        "\n",
        "    def create_endpoint(self, display_name, vpc_name):\n",
        "        \"\"\"Creates an ANN endpoint.\"\"\"\n",
        "\n",
        "        api_url = f\"{self.ann_parent}/indexEndpoints\"\n",
        "        network_name = f\"projects/{self.project_number}/global/networks/{vpc_name}\"\n",
        "\n",
        "        request_body = {\"display_name\": display_name, \"network\": network_name}\n",
        "\n",
        "        response = self.authed_session.post(api_url, data=json.dumps(request_body))\n",
        "        if response.status_code != 200:\n",
        "            raise RuntimeError(response.text)\n",
        "        operation_id = response.json()[\"name\"].split(\"/\")[-1]\n",
        "\n",
        "        return operation_id\n",
        "\n",
        "    def list_endpoints(self, display_name=None):\n",
        "        \"\"\"Lists all ANN endpoints with a given display name or\n",
        "        all endpoints in the project if the display_name is not provided.\"\"\"\n",
        "\n",
        "        if display_name:\n",
        "            api_url = (\n",
        "                f'{self.ann_parent}/indexEndpoints?filter=display_name=\"{display_name}\"'\n",
        "            )\n",
        "        else:\n",
        "            api_url = f\"{self.ann_parent}/indexEndpoints\"\n",
        "\n",
        "        response = self.authed_session.get(api_url).json()\n",
        "\n",
        "        return response[\"indexEndpoints\"] if response else []\n",
        "\n",
        "    def delete_endpoint(self, endpoint_id):\n",
        "        \"\"\"Deletes an ANN endpoint.\"\"\"\n",
        "\n",
        "        api_url = f\"{self.ann_parent}/indexEndpoints/{endpoint_id}\"\n",
        "\n",
        "        response = self.authed_session.delete(api_url)\n",
        "        if response.status_code != 200:\n",
        "            raise RuntimeError(response.text)\n",
        "\n",
        "        return response.json()\n",
        "\n",
        "    def create_deployment(self, display_name, deployment_id, endpoint_id, index_id):\n",
        "        \"\"\"Deploys an ANN index to an endpoint.\"\"\"\n",
        "\n",
        "        api_url = f\"{self.ann_parent}/indexEndpoints/{endpoint_id}:deployIndex\"\n",
        "        index_name = (\n",
        "            f\"projects/{self.project_number}/locations/{self.region}/indexes/{index_id}\"\n",
        "        )\n",
        "\n",
        "        request_body = {\n",
        "            \"deployed_index\": {\n",
        "                \"id\": deployment_id,\n",
        "                \"index\": index_name,\n",
        "                \"display_name\": display_name,\n",
        "            }\n",
        "        }\n",
        "\n",
        "        response = self.authed_session.post(api_url, data=json.dumps(request_body))\n",
        "        if response.status_code != 200:\n",
        "            raise RuntimeError(response.text)\n",
        "        operation_id = response.json()[\"name\"].split(\"/\")[-1]\n",
        "\n",
        "        return operation_id\n",
        "\n",
        "    def get_deployment_grpc_ip(self, endpoint_id, deployment_id):\n",
        "        \"\"\"Returns a private IP address for a gRPC interface to\n",
        "        an Index deployment.\"\"\"\n",
        "\n",
        "        api_url = f\"{self.ann_parent}/indexEndpoints/{endpoint_id}\"\n",
        "\n",
        "        response = self.authed_session.get(api_url)\n",
        "        if response.status_code != 200:\n",
        "            raise RuntimeError(response.text)\n",
        "\n",
        "        endpoint_ip = None\n",
        "        if \"deployedIndexes\" in response.json().keys():\n",
        "            for deployment in response.json()[\"deployedIndexes\"]:\n",
        "                if deployment[\"id\"] == deployment_id:\n",
        "                    endpoint_ip = deployment[\"privateEndpoints\"][\"matchGrpcAddress\"]\n",
        "\n",
        "        return endpoint_ip\n",
        "\n",
        "    def delete_deployment(self, endpoint_id, deployment_id):\n",
        "        \"\"\"Undeployes an index from an endpoint.\"\"\"\n",
        "\n",
        "        api_url = f\"{self.ann_parent}/indexEndpoints/{endpoint_id}:undeployIndex\"\n",
        "\n",
        "        request_body = {\"deployed_index_id\": deployment_id}\n",
        "\n",
        "        response = self.authed_session.post(api_url, data=json.dumps(request_body))\n",
        "        if response.status_code != 200:\n",
        "            raise RuntimeError(response.text)\n",
        "\n",
        "        return response\n",
        "\n",
        "\n",
        "index_client = IndexClient(PROJECT_ID, PROJECT_NUMBER, REGION)\n",
        "deployment_client = IndexDeploymentClient(PROJECT_ID, PROJECT_NUMBER, REGION)"
      ]
    },
    {
      "cell_type": "markdown",
      "metadata": {
        "id": "e06db6e034f3"
      },
      "source": [
        "### Create an ANN index\n",
        "\n",
        "#### List all indexes registered with the ANN service"
      ]
    },
    {
      "cell_type": "code",
      "execution_count": null,
      "metadata": {
        "id": "3420471b0f5f"
      },
      "outputs": [],
      "source": [
        "indexes = index_client.list_indexes()\n",
        "\n",
        "if not indexes:\n",
        "    print(\"There are not any indexes registered with the service\")\n",
        "\n",
        "for index in indexes:\n",
        "    print(index[\"name\"])"
      ]
    },
    {
      "cell_type": "markdown",
      "metadata": {
        "id": "8c7c7611d726"
      },
      "source": [
        "#### Configure and create a new index based on the exported embeddings\n",
        "\n",
        "Index creation is a long running operation. Be patient."
      ]
    },
    {
      "cell_type": "code",
      "execution_count": null,
      "metadata": {
        "id": "0a986641b9dc"
      },
      "outputs": [],
      "source": [
        "index_display_name = \"Song embeddings\"\n",
        "index_description = \"Song embeddings created BQML Matrix Factorization model\"\n",
        "\n",
        "index_metadata = {\n",
        "    \"contents_delta_uri\": DATA_LOCATION,\n",
        "    \"config\": {\n",
        "        \"dimensions\": 50,\n",
        "        \"approximate_neighbors_count\": 50,\n",
        "        \"distance_measure_type\": \"DOT_PRODUCT_DISTANCE\",\n",
        "        \"feature_norm_type\": \"UNIT_L2_NORM\",\n",
        "        \"tree_ah_config\": {\"child_node_count\": 1000, \"max_leaves_to_search\": 100},\n",
        "    },\n",
        "}"
      ]
    },
    {
      "cell_type": "code",
      "execution_count": null,
      "metadata": {
        "id": "874a023f925e"
      },
      "outputs": [],
      "source": [
        "logging.getLogger().setLevel(logging.INFO)\n",
        "\n",
        "operation_id = index_client.create_index(\n",
        "    index_display_name, index_description, index_metadata\n",
        ")\n",
        "\n",
        "response = index_client.wait_for_completion(operation_id, \"Creating index\", 20)\n",
        "print(response)"
      ]
    },
    {
      "cell_type": "markdown",
      "metadata": {
        "id": "db78b233ede0"
      },
      "source": [
        "#### Verify that the index was created"
      ]
    },
    {
      "cell_type": "code",
      "execution_count": null,
      "metadata": {
        "id": "10b7046e7b0f"
      },
      "outputs": [],
      "source": [
        "indexes = index_client.list_indexes(index_display_name)\n",
        "\n",
        "for index in indexes:\n",
        "    print(index[\"name\"])\n",
        "\n",
        "if indexes:\n",
        "    index_id = index[\"name\"].split(\"/\")[-1]\n",
        "    print(f\"Index: {index_id} will be used for deployment\")\n",
        "else:\n",
        "    print(\"No indexes available for deployment\")"
      ]
    },
    {
      "cell_type": "markdown",
      "metadata": {
        "id": "45896fed0807"
      },
      "source": [
        "### Create the index deployment"
      ]
    },
    {
      "cell_type": "markdown",
      "metadata": {
        "id": "64f1e67bfd6a"
      },
      "source": [
        "#### List all endpoints registered with the ANN service"
      ]
    },
    {
      "cell_type": "code",
      "execution_count": null,
      "metadata": {
        "id": "7b2da1a875d5"
      },
      "outputs": [],
      "source": [
        "endpoints = deployment_client.list_endpoints()\n",
        "\n",
        "if not endpoints:\n",
        "    print(\"There are not any endpoints registered with the service\")\n",
        "\n",
        "for endpoint in endpoints:\n",
        "    print(endpoint[\"name\"])"
      ]
    },
    {
      "cell_type": "markdown",
      "metadata": {
        "id": "50d4ebc2816d"
      },
      "source": [
        "#### Create an index endpoint"
      ]
    },
    {
      "cell_type": "code",
      "execution_count": null,
      "metadata": {
        "id": "b0393b44d9b6"
      },
      "outputs": [],
      "source": [
        "deployment_display_name = \"Song embeddings endpoint\""
      ]
    },
    {
      "cell_type": "code",
      "execution_count": null,
      "metadata": {
        "id": "caf8516b4527"
      },
      "outputs": [],
      "source": [
        "operation_id = deployment_client.create_endpoint(deployment_display_name, VPC_NAME)\n",
        "\n",
        "response = index_client.wait_for_completion(operation_id, \"Waiting for endpoint\", 10)\n",
        "print(response)"
      ]
    },
    {
      "cell_type": "markdown",
      "metadata": {
        "id": "16795a039776"
      },
      "source": [
        "#### Verify that the endpoint was created"
      ]
    },
    {
      "cell_type": "code",
      "execution_count": null,
      "metadata": {
        "id": "f62de73b087b"
      },
      "outputs": [],
      "source": [
        "endpoints = deployment_client.list_endpoints(deployment_display_name)\n",
        "\n",
        "for endpoint in endpoints:\n",
        "    print(endpoint[\"name\"])\n",
        "\n",
        "if endpoints:\n",
        "    endpoint_id = endpoint[\"name\"].split(\"/\")[-1]\n",
        "    print(f\"Endpoint: {endpoint_id} will be used for deployment\")\n",
        "else:\n",
        "    print(\"No endpoints available for deployment\")"
      ]
    },
    {
      "cell_type": "markdown",
      "metadata": {
        "id": "c45aad5da7b5"
      },
      "source": [
        "#### Deploy the index to the endpoint"
      ]
    },
    {
      "cell_type": "markdown",
      "metadata": {
        "id": "aaa35015a050"
      },
      "source": [
        "##### Set the deployed index ID\n",
        "\n",
        "The ID of the deployed index must be unique within your project."
      ]
    },
    {
      "cell_type": "code",
      "execution_count": null,
      "metadata": {
        "id": "bacbb160289f"
      },
      "outputs": [],
      "source": [
        "deployment_display_name = \"Song embeddings deployed index\"\n",
        "deployed_index_id = \"songs_embeddings_deployed_index\""
      ]
    },
    {
      "cell_type": "markdown",
      "metadata": {
        "id": "bd96c5859da8"
      },
      "source": [
        "##### Deploy the index\n",
        "\n",
        "Be patient. Index deployment is a long running operation"
      ]
    },
    {
      "cell_type": "code",
      "execution_count": null,
      "metadata": {
        "id": "9d1ce2d0fe2e"
      },
      "outputs": [],
      "source": [
        "response = index_client.wait_for_completion(operation_id, \"Waiting for deployment\", 10)"
      ]
    },
    {
      "cell_type": "code",
      "execution_count": null,
      "metadata": {
        "id": "a555f14fb5af"
      },
      "outputs": [],
      "source": [
        "operation_id = deployment_client.create_deployment(\n",
        "    deployment_display_name, deployed_index_id, endpoint_id, index_id\n",
        ")\n",
        "\n",
        "response = index_client.wait_for_completion(operation_id, \"Waiting for deployment\", 10)\n",
        "print(response)"
      ]
    },
    {
      "cell_type": "markdown",
      "metadata": {
        "id": "42feed4cc698"
      },
      "source": [
        "## Querying the ANN service\n",
        "\n",
        "You will use the gRPC interface to query the deployed index."
      ]
    },
    {
      "cell_type": "markdown",
      "metadata": {
        "id": "315f09a4c2c0"
      },
      "source": [
        "### Retrieve the gRPC private endpoint for the ANN Match service"
      ]
    },
    {
      "cell_type": "code",
      "execution_count": null,
      "metadata": {
        "id": "b9419bd9115d"
      },
      "outputs": [],
      "source": [
        "deployed_index_ip = deployment_client.get_deployment_grpc_ip(\n",
        "    endpoint_id, deployed_index_id\n",
        ")\n",
        "endpoint = f\"{deployed_index_ip}:{MATCH_SERVICE_PORT}\"\n",
        "print(f\"gRPC endpoint for the: {deployed_index_id} deployment is: {endpoint}\")"
      ]
    },
    {
      "cell_type": "markdown",
      "metadata": {
        "id": "cb2f1201cf61"
      },
      "source": [
        "### Create a helper wrapper around the Match Service gRPC API.\n",
        "\n",
        "The wrapper uses the pre-generated gRPC stub to the Online Querying gRPC interface. "
      ]
    },
    {
      "cell_type": "code",
      "execution_count": null,
      "metadata": {
        "id": "7bb964296712"
      },
      "outputs": [],
      "source": [
        "class MatchService(object):\n",
        "    \"\"\"This is a wrapper around Online Querying gRPC interface.\"\"\"\n",
        "\n",
        "    def __init__(self, endpoint, deployed_index_id):\n",
        "        self.endpoint = endpoint\n",
        "        self.deployed_index_id = deployed_index_id\n",
        "\n",
        "    def single_match(\n",
        "        self, embedding: List[float], num_neighbors: int\n",
        "    ) -> List[Tuple[str, float]]:\n",
        "        \"\"\"Requests a match for a single embedding.\"\"\"\n",
        "\n",
        "        match_request = match_pb2.MatchRequest(\n",
        "            deployed_index_id=self.deployed_index_id,\n",
        "            float_val=embedding,\n",
        "            num_neighbors=num_neighbors,\n",
        "        )\n",
        "        with grpc.insecure_channel(endpoint) as channel:\n",
        "            stub = match_pb2_grpc.MatchServiceStub(channel)\n",
        "            response = stub.Match(match_request)\n",
        "\n",
        "        return [(neighbor.id, neighbor.distance) for neighbor in response.neighbor]\n",
        "\n",
        "    def batch_match(\n",
        "        self, embeddings: List[List[float]], num_neighbors: int\n",
        "    ) -> List[List[Tuple[str, float]]]:\n",
        "        \"\"\"Requests matches ofr a list of embeddings.\"\"\"\n",
        "\n",
        "        match_requests = [\n",
        "            match_pb2.MatchRequest(\n",
        "                deployed_index_id=self.deployed_index_id,\n",
        "                float_val=embedding,\n",
        "                num_neighbors=num_neighbors,\n",
        "            )\n",
        "            for embedding in embeddings\n",
        "        ]\n",
        "\n",
        "        batches_per_index = [\n",
        "            match_pb2.BatchMatchRequest.BatchMatchRequestPerIndex(\n",
        "                deployed_index_id=self.deployed_index_id, requests=match_requests\n",
        "            )\n",
        "        ]\n",
        "\n",
        "        batch_match_request = match_pb2.BatchMatchRequest(requests=batches_per_index)\n",
        "\n",
        "        with grpc.insecure_channel(endpoint) as channel:\n",
        "            stub = match_pb2_grpc.MatchServiceStub(channel)\n",
        "            response = stub.BatchMatch(batch_match_request)\n",
        "\n",
        "        matches = []\n",
        "        for batch_per_index in response.responses:\n",
        "            for match in batch_per_index.responses:\n",
        "                matches.append(\n",
        "                    [(neighbor.id, neighbor.distance) for neighbor in match.neighbor]\n",
        "                )\n",
        "\n",
        "        return matches\n",
        "\n",
        "\n",
        "match_service = MatchService(endpoint, deployed_index_id)"
      ]
    },
    {
      "cell_type": "markdown",
      "metadata": {
        "id": "b7129f8c1f40"
      },
      "source": [
        "### Prepare sample data\n",
        "\n",
        "Retrieve a few embeddings from the BigQuery embedding table"
      ]
    },
    {
      "cell_type": "code",
      "execution_count": null,
      "metadata": {
        "id": "a43dda59e732"
      },
      "outputs": [],
      "source": [
        "%%bigquery df_embeddings\n",
        "\n",
        "SELECT id, embedding\n",
        "FROM `recommendations.item_embeddings` \n",
        "LIMIT 10"
      ]
    },
    {
      "cell_type": "code",
      "execution_count": null,
      "metadata": {
        "id": "e39c8ed5cf8d"
      },
      "outputs": [],
      "source": [
        "sample_embeddings = [list(embedding) for embedding in df_embeddings[\"embedding\"]]\n",
        "sample_embeddings[0]"
      ]
    },
    {
      "cell_type": "markdown",
      "metadata": {
        "id": "b8f981c7668f"
      },
      "source": [
        "### Run a single match query\n",
        "\n",
        "The following call requests 10 closest neighbours for a single embedding."
      ]
    },
    {
      "cell_type": "code",
      "execution_count": null,
      "metadata": {
        "id": "24aa30e594a6"
      },
      "outputs": [],
      "source": [
        "%%time\n",
        "\n",
        "single_match = match_service.single_match(sample_embeddings[0], 10)\n",
        "single_match"
      ]
    },
    {
      "cell_type": "markdown",
      "metadata": {
        "id": "727339a6fc43"
      },
      "source": [
        "### Run a batch match query\n",
        "\n",
        "The following call requests 3 closest neighbours for each of the embeddings in a batch of 5."
      ]
    },
    {
      "cell_type": "code",
      "execution_count": null,
      "metadata": {
        "id": "8f90f1c1b8bd"
      },
      "outputs": [],
      "source": [
        "%%time\n",
        "\n",
        "batch_match = match_service.batch_match(sample_embeddings[0:5], 3)\n",
        "batch_match"
      ]
    },
    {
      "cell_type": "markdown",
      "metadata": {
        "id": "f35b660ce0a5"
      },
      "source": [
        "## Clean up\n",
        "\n",
        "**WARNING**\n",
        "\n",
        "The below code will delete all ANN deployments, endpoints, and indexes in the configured project.\n",
        "\n",
        "### Delete index deployments and endpoints"
      ]
    },
    {
      "cell_type": "code",
      "execution_count": null,
      "metadata": {
        "id": "0c0bb74311d1"
      },
      "outputs": [],
      "source": [
        "for endpoint in deployment_client.list_endpoints():\n",
        "    endpoint_id = endpoint[\"name\"].split(\"/\")[-1]\n",
        "    if \"deployedIndexes\" in endpoint.keys():\n",
        "        for deployment in endpoint[\"deployedIndexes\"]:\n",
        "            print(\n",
        "                \"   Deleting index deployment: {} in the endpoint: {} \".format(\n",
        "                    deployment[\"id\"], endpoint_id\n",
        "                )\n",
        "            )\n",
        "            deployment_client.delete_deployment(endpoint_id, deployment[\"id\"])\n",
        "    print(\"Deleting endpoint: {}\".format(endpoint[\"name\"]))\n",
        "    deployment_client.delete_endpoint(endpoint_id)"
      ]
    },
    {
      "cell_type": "markdown",
      "metadata": {
        "id": "9ee64ff1d0eb"
      },
      "source": [
        "### Delete indexes"
      ]
    },
    {
      "cell_type": "code",
      "execution_count": null,
      "metadata": {
        "id": "5c45b13425f4"
      },
      "outputs": [],
      "source": [
        "for index in index_client.list_indexes():\n",
        "    index_id = index[\"name\"].split(\"/\")[-1]\n",
        "    print(\"Deleting index: {}\".format(index[\"name\"]))\n",
        "    index_client.delete_index(index_id)"
      ]
    },
    {
      "cell_type": "markdown",
      "metadata": {
        "id": "f35eac80421e"
      },
      "source": [
        "## License\n",
        "\n",
        "Copyright 2020 Google LLC\n",
        "\n",
        "Licensed under the Apache License, Version 2.0 (the \"License\");\n",
        "you may not use this file except in compliance with the License. You may obtain a copy of the License at: http://www.apache.org/licenses/LICENSE-2.0\n",
        "\n",
        "Unless required by applicable law or agreed to in writing, software distributed under the License is distributed on an \"AS IS\" BASIS, WITHOUT WARRANTIES OR CONDITIONS OF ANY KIND, either express or implied. \n",
        "\n",
        "See the License for the specific language governing permissions and limitations under the License.\n",
        "\n",
        "**This is not an official Google product but sample code provided for an educational purpose**"
      ]
    }
  ],
  "metadata": {
    "colab": {
      "name": "ann01_create_index.ipynb",
      "toc_visible": true
    },
    "kernelspec": {
      "display_name": "Python 3",
      "name": "python3"
    }
  },
  "nbformat": 4,
  "nbformat_minor": 0
}
