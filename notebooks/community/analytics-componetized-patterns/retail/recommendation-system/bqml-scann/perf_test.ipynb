{
  "cells": [
    {
      "cell_type": "markdown",
      "metadata": {
        "id": "65409b1ff104"
      },
      "source": [
        "## Test the Retrieval Latency of Approximate vs Exact Matching "
      ]
    },
    {
      "cell_type": "code",
      "execution_count": null,
      "metadata": {
        "id": "9326fb058bd8"
      },
      "outputs": [],
      "source": [
        "import time\n",
        "\n",
        "import tensorflow as tf"
      ]
    },
    {
      "cell_type": "code",
      "execution_count": null,
      "metadata": {
        "id": "4c7899e24f45"
      },
      "outputs": [],
      "source": [
        "PROJECT_ID = \"ksalama-cloudml\"\n",
        "BUCKET = \"ksalama-cloudml\"\n",
        "INDEX_DIR = f\"gs://{BUCKET}/bqml/scann_index\"\n",
        "BQML_MODEL_DIR = f\"gs://{BUCKET}/bqml/item_matching_model\"\n",
        "LOOKUP_MODEL_DIR = f\"gs://{BUCKET}/bqml/embedding_lookup_model\""
      ]
    },
    {
      "cell_type": "code",
      "execution_count": null,
      "metadata": {
        "id": "63246ba17b05"
      },
      "outputs": [],
      "source": [
        "songs = {\n",
        "    \"2114406\": \"Metallica: Nothing Else Matters\",\n",
        "    \"2114402\": \"Metallica: The Unforgiven\",\n",
        "    \"2120788\": \"Limp Bizkit: My Way\",\n",
        "    \"2120786\": \"Limp Bizkit: My Generation\",\n",
        "    \"1086322\": \"Jacques Brel: Ne Me Quitte Pas\",\n",
        "    \"3129954\": \"Édith Piaf: Non, Je Ne Regrette Rien\",\n",
        "    \"53448\": \"France Gall: Ella, Elle l'a\",\n",
        "    \"887688\": \"Enrique Iglesias: Tired Of Being Sorry\",\n",
        "    \"562487\": \"Shakira: Hips Don't Lie\",\n",
        "    \"833391\": \"Ricky Martin: Livin' la Vida Loca\",\n",
        "    \"1098069\": \"Snoop Dogg: Drop It Like It's Hot\",\n",
        "    \"910683\": \"2Pac: California Love\",\n",
        "    \"1579481\": \"Dr. Dre: The Next Episode\",\n",
        "    \"2675403\": \"Eminem: Lose Yourself\",\n",
        "    \"2954929\": \"Black Sabbath: Iron Man\",\n",
        "    \"625169\": \"Black Sabbath: Paranoid\",\n",
        "}"
      ]
    },
    {
      "cell_type": "markdown",
      "metadata": {
        "id": "fb580e3361d6"
      },
      "source": [
        "## Exact Matching"
      ]
    },
    {
      "cell_type": "code",
      "execution_count": null,
      "metadata": {
        "id": "f21254b76738"
      },
      "outputs": [],
      "source": [
        "class ExactMatcher(object):\n",
        "    def __init__(self, model_dir):\n",
        "        print(\"Loading exact matchg model...\")\n",
        "        self.model = tf.saved_model.load(model_dir)\n",
        "        print(\"Exact matchg model is loaded.\")\n",
        "\n",
        "    def match(self, instances):\n",
        "        outputs = self.model.signatures[\"serving_default\"](\n",
        "            tf.constant(instances, tf.dtypes.int64)\n",
        "        )\n",
        "        return outputs[\"predicted_item2_Id\"].numpy()"
      ]
    },
    {
      "cell_type": "code",
      "execution_count": null,
      "metadata": {
        "id": "314b57ccf428"
      },
      "outputs": [],
      "source": [
        "exact_matcher = ExactMatcher(BQML_MODEL_DIR)"
      ]
    },
    {
      "cell_type": "code",
      "execution_count": null,
      "metadata": {
        "id": "718287be6cf4"
      },
      "outputs": [],
      "source": [
        "exact_matches = {}\n",
        "\n",
        "start_time = time.time()\n",
        "for i in range(100):\n",
        "    for song in songs:\n",
        "        matches = exact_matcher.match([int(song)])\n",
        "        exact_matches[song] = matches.tolist()[0]\n",
        "end_time = time.time()\n",
        "exact_elapsed_time = end_time - start_time\n",
        "\n",
        "print(\n",
        "    f\"Elapsed time: {round(exact_elapsed_time, 3)} seconds - average time: {exact_elapsed_time / (100 * len(songs))} seconds\"\n",
        ")"
      ]
    },
    {
      "cell_type": "markdown",
      "metadata": {
        "id": "4acf376c263f"
      },
      "source": [
        "## Approximate Matching (ScaNN)"
      ]
    },
    {
      "cell_type": "code",
      "execution_count": null,
      "metadata": {
        "id": "1d9088f1d55f"
      },
      "outputs": [],
      "source": [
        "from index_server.matching import ScaNNMatcher\n",
        "\n",
        "scann_matcher = ScaNNMatcher(INDEX_DIR)\n",
        "embedding_lookup = tf.saved_model.load(LOOKUP_MODEL_DIR)"
      ]
    },
    {
      "cell_type": "code",
      "execution_count": null,
      "metadata": {
        "id": "cd8404a3d45e"
      },
      "outputs": [],
      "source": [
        "approx_matches = dict()\n",
        "\n",
        "start_time = time.time()\n",
        "for i in range(100):\n",
        "    for song in songs:\n",
        "        vector = embedding_lookup([song]).numpy()[0]\n",
        "        matches = scann_matcher.match(vector, 50)\n",
        "        approx_matches[song] = matches\n",
        "end_time = time.time()\n",
        "scann_elapsed_time = end_time - start_time\n",
        "\n",
        "print(\n",
        "    f\"Elapsed time: {round(scann_elapsed_time, 3)} seconds - average time: {scann_elapsed_time / (100 * len(songs))} seconds\"\n",
        ")"
      ]
    },
    {
      "cell_type": "code",
      "execution_count": null,
      "metadata": {
        "id": "a6fc7a42e3ed"
      },
      "outputs": [],
      "source": [
        "speedup_percent = round(exact_elapsed_time / scann_elapsed_time, 1)\n",
        "print(f\"ScaNN speedup: {speedup_percent}x\")"
      ]
    },
    {
      "cell_type": "markdown",
      "metadata": {
        "id": "379cf59f8f39"
      },
      "source": [
        "## License\n",
        "\n",
        "Copyright 2020 Google LLC\n",
        "\n",
        "Licensed under the Apache License, Version 2.0 (the \"License\");\n",
        "you may not use this file except in compliance with the License. You may obtain a copy of the License at: http://www.apache.org/licenses/LICENSE-2.0\n",
        "\n",
        "Unless required by applicable law or agreed to in writing, software distributed under the License is distributed on an \"AS IS\" BASIS, WITHOUT WARRANTIES OR CONDITIONS OF ANY KIND, either express or implied. \n",
        "\n",
        "See the License for the specific language governing permissions and limitations under the License.\n",
        "\n",
        "**This is not an official Google product but sample code provided for an educational purpose**"
      ]
    }
  ],
  "metadata": {
    "colab": {
      "name": "perf_test.ipynb",
      "toc_visible": true
    },
    "kernelspec": {
      "display_name": "Python 3",
      "name": "python3"
    }
  },
  "nbformat": 4,
  "nbformat_minor": 0
}
